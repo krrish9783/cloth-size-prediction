{
 "cells": [
  {
   "cell_type": "code",
   "execution_count": 3,
   "id": "4bad0e0c",
   "metadata": {},
   "outputs": [
    {
     "data": {
      "text/html": [
       "<div>\n",
       "<style scoped>\n",
       "    .dataframe tbody tr th:only-of-type {\n",
       "        vertical-align: middle;\n",
       "    }\n",
       "\n",
       "    .dataframe tbody tr th {\n",
       "        vertical-align: top;\n",
       "    }\n",
       "\n",
       "    .dataframe thead th {\n",
       "        text-align: right;\n",
       "    }\n",
       "</style>\n",
       "<table border=\"1\" class=\"dataframe\">\n",
       "  <thead>\n",
       "    <tr style=\"text-align: right;\">\n",
       "      <th></th>\n",
       "      <th>weight</th>\n",
       "      <th>age</th>\n",
       "      <th>height</th>\n",
       "      <th>size</th>\n",
       "    </tr>\n",
       "  </thead>\n",
       "  <tbody>\n",
       "    <tr>\n",
       "      <th>0</th>\n",
       "      <td>62</td>\n",
       "      <td>28.0</td>\n",
       "      <td>172.72</td>\n",
       "      <td>XL</td>\n",
       "    </tr>\n",
       "    <tr>\n",
       "      <th>1</th>\n",
       "      <td>59</td>\n",
       "      <td>36.0</td>\n",
       "      <td>167.64</td>\n",
       "      <td>L</td>\n",
       "    </tr>\n",
       "    <tr>\n",
       "      <th>2</th>\n",
       "      <td>61</td>\n",
       "      <td>34.0</td>\n",
       "      <td>165.10</td>\n",
       "      <td>M</td>\n",
       "    </tr>\n",
       "    <tr>\n",
       "      <th>3</th>\n",
       "      <td>65</td>\n",
       "      <td>27.0</td>\n",
       "      <td>175.26</td>\n",
       "      <td>L</td>\n",
       "    </tr>\n",
       "    <tr>\n",
       "      <th>4</th>\n",
       "      <td>62</td>\n",
       "      <td>45.0</td>\n",
       "      <td>172.72</td>\n",
       "      <td>M</td>\n",
       "    </tr>\n",
       "    <tr>\n",
       "      <th>...</th>\n",
       "      <td>...</td>\n",
       "      <td>...</td>\n",
       "      <td>...</td>\n",
       "      <td>...</td>\n",
       "    </tr>\n",
       "    <tr>\n",
       "      <th>119729</th>\n",
       "      <td>63</td>\n",
       "      <td>42.0</td>\n",
       "      <td>175.26</td>\n",
       "      <td>M</td>\n",
       "    </tr>\n",
       "    <tr>\n",
       "      <th>119730</th>\n",
       "      <td>45</td>\n",
       "      <td>29.0</td>\n",
       "      <td>154.94</td>\n",
       "      <td>S</td>\n",
       "    </tr>\n",
       "    <tr>\n",
       "      <th>119731</th>\n",
       "      <td>61</td>\n",
       "      <td>31.0</td>\n",
       "      <td>172.72</td>\n",
       "      <td>M</td>\n",
       "    </tr>\n",
       "    <tr>\n",
       "      <th>119732</th>\n",
       "      <td>74</td>\n",
       "      <td>31.0</td>\n",
       "      <td>167.64</td>\n",
       "      <td>XL</td>\n",
       "    </tr>\n",
       "    <tr>\n",
       "      <th>119733</th>\n",
       "      <td>70</td>\n",
       "      <td>30.0</td>\n",
       "      <td>167.64</td>\n",
       "      <td>XL</td>\n",
       "    </tr>\n",
       "  </tbody>\n",
       "</table>\n",
       "<p>119734 rows × 4 columns</p>\n",
       "</div>"
      ],
      "text/plain": [
       "        weight   age  height size\n",
       "0           62  28.0  172.72   XL\n",
       "1           59  36.0  167.64    L\n",
       "2           61  34.0  165.10    M\n",
       "3           65  27.0  175.26    L\n",
       "4           62  45.0  172.72    M\n",
       "...        ...   ...     ...  ...\n",
       "119729      63  42.0  175.26    M\n",
       "119730      45  29.0  154.94    S\n",
       "119731      61  31.0  172.72    M\n",
       "119732      74  31.0  167.64   XL\n",
       "119733      70  30.0  167.64   XL\n",
       "\n",
       "[119734 rows x 4 columns]"
      ]
     },
     "execution_count": 3,
     "metadata": {},
     "output_type": "execute_result"
    }
   ],
   "source": [
    "# Regular EDA (exploratory data analysis) and plotting libraries\n",
    "import pandas as pd\n",
    "import numpy as np\n",
    "import matplotlib.pyplot as plt\n",
    "import seaborn as sns\n",
    "\n",
    "%matplotlib inline\n",
    "\n",
    "# Models from Scikit-learn\n",
    "from sklearn.linear_model import LogisticRegression\n",
    "from sklearn.neighbors import KNeighborsClassifier\n",
    "from sklearn.ensemble import RandomForestClassifier\n",
    "from sklearn.tree import DecisionTreeClassifier\n",
    "\n",
    "# Model Evaluations\n",
    "from sklearn.model_selection import train_test_split, cross_val_score\n",
    "from sklearn.model_selection import RandomizedSearchCV, GridSearchCV\n",
    "from sklearn.metrics import confusion_matrix, classification_report\n",
    "\n",
    "df_raw = pd.read_csv(\"/home/krishna/Git-Workshop/clsz2.csv\")\n",
    "df_raw"
   ]
  },
  {
   "cell_type": "code",
   "execution_count": 9,
   "id": "1a92270e",
   "metadata": {},
   "outputs": [
    {
     "name": "stdout",
     "output_type": "stream",
     "text": [
      "<class 'pandas.core.frame.DataFrame'>\n",
      "RangeIndex: 119734 entries, 0 to 119733\n",
      "Data columns (total 4 columns):\n",
      " #   Column  Non-Null Count   Dtype  \n",
      "---  ------  --------------   -----  \n",
      " 0   weight  119734 non-null  int64  \n",
      " 1   age     119477 non-null  float64\n",
      " 2   height  119404 non-null  float64\n",
      " 3   size    119734 non-null  object \n",
      "dtypes: float64(2), int64(1), object(1)\n",
      "memory usage: 3.7+ MB\n"
     ]
    }
   ],
   "source": [
    "df_raw.info()\n"
   ]
  },
  {
   "cell_type": "code",
   "execution_count": 10,
   "id": "10d3b33f",
   "metadata": {},
   "outputs": [
    {
     "data": {
      "text/html": [
       "<div>\n",
       "<style scoped>\n",
       "    .dataframe tbody tr th:only-of-type {\n",
       "        vertical-align: middle;\n",
       "    }\n",
       "\n",
       "    .dataframe tbody tr th {\n",
       "        vertical-align: top;\n",
       "    }\n",
       "\n",
       "    .dataframe thead th {\n",
       "        text-align: right;\n",
       "    }\n",
       "</style>\n",
       "<table border=\"1\" class=\"dataframe\">\n",
       "  <thead>\n",
       "    <tr style=\"text-align: right;\">\n",
       "      <th></th>\n",
       "      <th>weight</th>\n",
       "      <th>age</th>\n",
       "      <th>height</th>\n",
       "    </tr>\n",
       "  </thead>\n",
       "  <tbody>\n",
       "    <tr>\n",
       "      <th>count</th>\n",
       "      <td>119734.000000</td>\n",
       "      <td>119477.000000</td>\n",
       "      <td>119404.000000</td>\n",
       "    </tr>\n",
       "    <tr>\n",
       "      <th>mean</th>\n",
       "      <td>61.756811</td>\n",
       "      <td>34.027311</td>\n",
       "      <td>165.805794</td>\n",
       "    </tr>\n",
       "    <tr>\n",
       "      <th>std</th>\n",
       "      <td>9.944863</td>\n",
       "      <td>8.149447</td>\n",
       "      <td>6.737651</td>\n",
       "    </tr>\n",
       "    <tr>\n",
       "      <th>min</th>\n",
       "      <td>22.000000</td>\n",
       "      <td>0.000000</td>\n",
       "      <td>137.160000</td>\n",
       "    </tr>\n",
       "    <tr>\n",
       "      <th>25%</th>\n",
       "      <td>55.000000</td>\n",
       "      <td>29.000000</td>\n",
       "      <td>160.020000</td>\n",
       "    </tr>\n",
       "    <tr>\n",
       "      <th>50%</th>\n",
       "      <td>61.000000</td>\n",
       "      <td>32.000000</td>\n",
       "      <td>165.100000</td>\n",
       "    </tr>\n",
       "    <tr>\n",
       "      <th>75%</th>\n",
       "      <td>67.000000</td>\n",
       "      <td>37.000000</td>\n",
       "      <td>170.180000</td>\n",
       "    </tr>\n",
       "    <tr>\n",
       "      <th>max</th>\n",
       "      <td>136.000000</td>\n",
       "      <td>117.000000</td>\n",
       "      <td>193.040000</td>\n",
       "    </tr>\n",
       "  </tbody>\n",
       "</table>\n",
       "</div>"
      ],
      "text/plain": [
       "              weight            age         height\n",
       "count  119734.000000  119477.000000  119404.000000\n",
       "mean       61.756811      34.027311     165.805794\n",
       "std         9.944863       8.149447       6.737651\n",
       "min        22.000000       0.000000     137.160000\n",
       "25%        55.000000      29.000000     160.020000\n",
       "50%        61.000000      32.000000     165.100000\n",
       "75%        67.000000      37.000000     170.180000\n",
       "max       136.000000     117.000000     193.040000"
      ]
     },
     "execution_count": 10,
     "metadata": {},
     "output_type": "execute_result"
    }
   ],
   "source": [
    "df_raw.describe()"
   ]
  },
  {
   "cell_type": "code",
   "execution_count": 11,
   "id": "03411131",
   "metadata": {},
   "outputs": [
    {
     "data": {
      "text/plain": [
       "size\n",
       "M       29712\n",
       "S       21924\n",
       "XXXL    21359\n",
       "XL      19119\n",
       "L       17587\n",
       "XXS      9964\n",
       "XXL        69\n",
       "Name: count, dtype: int64"
      ]
     },
     "execution_count": 11,
     "metadata": {},
     "output_type": "execute_result"
    }
   ],
   "source": [
    "# Number of occurences for each size (target variable)\n",
    "df_raw[\"size\"].value_counts()"
   ]
  },
  {
   "cell_type": "code",
   "execution_count": 12,
   "id": "136ed0da",
   "metadata": {},
   "outputs": [
    {
     "data": {
      "text/plain": [
       "<Axes: xlabel='size', ylabel='count'>"
      ]
     },
     "execution_count": 12,
     "metadata": {},
     "output_type": "execute_result"
    },
    {
     "data": {
      "image/png": "[encoded data removed]",
      "text/plain": [
       "<Figure size 640x480 with 1 Axes>"
      ]
     },
     "metadata": {},
     "output_type": "display_data"
    }
   ],
   "source": [
    "# Number of occurences for each size (target variable)\n",
    "sns.countplot(x=df_raw[\"size\"])"
   ]
  },
  {
   "cell_type": "code",
   "execution_count": 4,
   "id": "86f76278",
   "metadata": {},
   "outputs": [
    {
     "name": "stderr",
     "output_type": "stream",
     "text": [
      "/home/krishna/anaconda3/lib/python3.11/site-packages/seaborn/axisgrid.py:118: UserWarning: The figure layout has changed to tight\n",
      "  self._figure.tight_layout(*args, **kwargs)\n"
     ]
    },
    {
     "data": {
      "text/plain": [
       "<seaborn.axisgrid.FacetGrid at 0x7f8eff55af90>"
      ]
     },
     "execution_count": 4,
     "metadata": {},
     "output_type": "execute_result"
    },
    {
     "data": {
      "image/png": "[encoded data removed]",
      "text/plain": [
       "<Figure size 500x500 with 1 Axes>"
      ]
     },
     "metadata": {},
     "output_type": "display_data"
    }
   ],
   "source": [
    "# Age distribution\n",
    "sns.displot(df_raw[\"age\"])"
   ]
  },
  {
   "cell_type": "code",
   "execution_count": 14,
   "id": "d0ad68cf",
   "metadata": {},
   "outputs": [
    {
     "name": "stderr",
     "output_type": "stream",
     "text": [
      "/home/krishna/anaconda3/lib/python3.11/site-packages/seaborn/axisgrid.py:118: UserWarning: The figure layout has changed to tight\n",
      "  self._figure.tight_layout(*args, **kwargs)\n"
     ]
    },
    {
     "data": {
      "text/plain": [
       "<seaborn.axisgrid.FacetGrid at 0x7feaa8708390>"
      ]
     },
     "execution_count": 14,
     "metadata": {},
     "output_type": "execute_result"
    },
    {
     "data": {
      "image/png": "[encoded data removed]",
      "text/plain": [
       "<Figure size 500x500 with 1 Axes>"
      ]
     },
     "metadata": {},
     "output_type": "display_data"
    }
   ],
   "source": [
    "# Weight distribution\n",
    "sns.displot(df_raw[\"weight\"])"
   ]
  },
  {
   "cell_type": "code",
   "execution_count": 15,
   "id": "50a7891a",
   "metadata": {},
   "outputs": [
    {
     "name": "stderr",
     "output_type": "stream",
     "text": [
      "/home/krishna/anaconda3/lib/python3.11/site-packages/seaborn/axisgrid.py:118: UserWarning: The figure layout has changed to tight\n",
      "  self._figure.tight_layout(*args, **kwargs)\n"
     ]
    },
    {
     "data": {
      "text/plain": [
       "<seaborn.axisgrid.FacetGrid at 0x7feaa876b7d0>"
      ]
     },
     "execution_count": 15,
     "metadata": {},
     "output_type": "execute_result"
    },
    {
     "data": {
      "image/png": "[encoded data removed]",
      "text/plain": [
       "<Figure size 500x500 with 1 Axes>"
      ]
     },
     "metadata": {},
     "output_type": "display_data"
    }
   ],
   "source": [
    "# height distribution\n",
    "sns.displot(df_raw[\"height\"])"
   ]
  },
  {
   "cell_type": "code",
   "execution_count": 5,
   "id": "372d238d",
   "metadata": {},
   "outputs": [
    {
     "data": {
      "text/html": [
       "<div>\n",
       "<style scoped>\n",
       "    .dataframe tbody tr th:only-of-type {\n",
       "        vertical-align: middle;\n",
       "    }\n",
       "\n",
       "    .dataframe tbody tr th {\n",
       "        vertical-align: top;\n",
       "    }\n",
       "\n",
       "    .dataframe thead th {\n",
       "        text-align: right;\n",
       "    }\n",
       "</style>\n",
       "<table border=\"1\" class=\"dataframe\">\n",
       "  <thead>\n",
       "    <tr style=\"text-align: right;\">\n",
       "      <th></th>\n",
       "      <th>age</th>\n",
       "      <th>height</th>\n",
       "      <th>weight</th>\n",
       "      <th>size</th>\n",
       "    </tr>\n",
       "  </thead>\n",
       "  <tbody>\n",
       "    <tr>\n",
       "      <th>0</th>\n",
       "      <td>-0.833326</td>\n",
       "      <td>0.767729</td>\n",
       "      <td>-0.660757</td>\n",
       "      <td>XL</td>\n",
       "    </tr>\n",
       "    <tr>\n",
       "      <th>24</th>\n",
       "      <td>-0.713290</td>\n",
       "      <td>1.539527</td>\n",
       "      <td>1.556338</td>\n",
       "      <td>XL</td>\n",
       "    </tr>\n",
       "    <tr>\n",
       "      <th>25</th>\n",
       "      <td>-0.353183</td>\n",
       "      <td>-1.161765</td>\n",
       "      <td>-0.291241</td>\n",
       "      <td>XL</td>\n",
       "    </tr>\n",
       "    <tr>\n",
       "      <th>28</th>\n",
       "      <td>-0.473219</td>\n",
       "      <td>-1.933562</td>\n",
       "      <td>-1.399788</td>\n",
       "      <td>XL</td>\n",
       "    </tr>\n",
       "    <tr>\n",
       "      <th>34</th>\n",
       "      <td>0.126960</td>\n",
       "      <td>-0.775866</td>\n",
       "      <td>0.447791</td>\n",
       "      <td>XL</td>\n",
       "    </tr>\n",
       "  </tbody>\n",
       "</table>\n",
       "</div>"
      ],
      "text/plain": [
       "         age    height    weight size\n",
       "0  -0.833326  0.767729 -0.660757   XL\n",
       "24 -0.713290  1.539527  1.556338   XL\n",
       "25 -0.353183 -1.161765 -0.291241   XL\n",
       "28 -0.473219 -1.933562 -1.399788   XL\n",
       "34  0.126960 -0.775866  0.447791   XL"
      ]
     },
     "execution_count": 5,
     "metadata": {},
     "output_type": "execute_result"
    }
   ],
   "source": [
    "# Removing Outliers\n",
    "dfs = []\n",
    "sizes = []\n",
    "for size_type in df_raw['size'].unique():\n",
    "    sizes.append(size_type)\n",
    "    ndf = df_raw[['age','height','weight']][df_raw['size'] == size_type]\n",
    "    zscore = ((ndf - ndf.mean())/ndf.std())\n",
    "    dfs.append(zscore)\n",
    "    \n",
    "for i in range(len(dfs)):\n",
    "    dfs[i]['age'] = dfs[i]['age'][(dfs[i]['age']>-3) & (dfs[i]['age']<3)]\n",
    "    dfs[i]['height'] = dfs[i]['height'][(dfs[i]['height']>-3) & (dfs[i]['height']<3)]\n",
    "    dfs[i]['weight'] = dfs[i]['weight'][(dfs[i]['weight']>-3) & (dfs[i]['weight']<3)]\n",
    "\n",
    "for i in range(len(sizes)):\n",
    "    dfs[i]['size'] = sizes[i]\n",
    "df_raw = pd.concat(dfs)\n",
    "df_raw.head()"
   ]
  },
  {
   "cell_type": "code",
   "execution_count": 17,
   "id": "43fa9e6d",
   "metadata": {},
   "outputs": [
    {
     "data": {
      "text/plain": [
       "age       1678\n",
       "height     547\n",
       "weight    1069\n",
       "size         0\n",
       "dtype: int64"
      ]
     },
     "execution_count": 17,
     "metadata": {},
     "output_type": "execute_result"
    }
   ],
   "source": [
    "# Check for missing values\n",
    "df_raw.isna().sum()"
   ]
  },
  {
   "cell_type": "code",
   "execution_count": 6,
   "id": "de7d7828",
   "metadata": {},
   "outputs": [],
   "source": [
    "# Filling missing data\n",
    "df_raw[\"age\"] = df_raw[\"age\"].fillna(df_raw['age'].median())\n",
    "df_raw[\"height\"] = df_raw[\"height\"].fillna(df_raw['height'].median())\n",
    "df_raw[\"weight\"] = df_raw[\"weight\"].fillna(df_raw['weight'].median())\n"
   ]
  },
  {
   "cell_type": "code",
   "execution_count": 7,
   "id": "b40c8885",
   "metadata": {},
   "outputs": [],
   "source": [
    "# Mapping clothes size from strings to numeric\n",
    "df_raw['size'] = df_raw['size'].map({\"XXS\": 1,\n",
    "                                     \"S\": 2,\n",
    "                                     \"M\" : 3,\n",
    "                                     \"L\" : 4,\n",
    "                                     \"XL\" : 5,\n",
    "                                     \"XXL\" : 6,\n",
    "                                     \"XXXL\" : 7})"
   ]
  },
  {
   "cell_type": "code",
   "execution_count": 8,
   "id": "79309719",
   "metadata": {},
   "outputs": [
    {
     "data": {
      "text/plain": [
       "age       0\n",
       "height    0\n",
       "weight    0\n",
       "size      0\n",
       "dtype: int64"
      ]
     },
     "execution_count": 8,
     "metadata": {},
     "output_type": "execute_result"
    }
   ],
   "source": [
    "# Check for missing values\n",
    "df_raw.isna().sum()"
   ]
  },
  {
   "cell_type": "code",
   "execution_count": 9,
   "id": "36a21059",
   "metadata": {},
   "outputs": [
    {
     "data": {
      "text/html": [
       "<div>\n",
       "<style scoped>\n",
       "    .dataframe tbody tr th:only-of-type {\n",
       "        vertical-align: middle;\n",
       "    }\n",
       "\n",
       "    .dataframe tbody tr th {\n",
       "        vertical-align: top;\n",
       "    }\n",
       "\n",
       "    .dataframe thead th {\n",
       "        text-align: right;\n",
       "    }\n",
       "</style>\n",
       "<table border=\"1\" class=\"dataframe\">\n",
       "  <thead>\n",
       "    <tr style=\"text-align: right;\">\n",
       "      <th></th>\n",
       "      <th>age</th>\n",
       "      <th>height</th>\n",
       "      <th>weight</th>\n",
       "      <th>size</th>\n",
       "    </tr>\n",
       "  </thead>\n",
       "  <tbody>\n",
       "    <tr>\n",
       "      <th>0</th>\n",
       "      <td>-0.833326</td>\n",
       "      <td>0.767729</td>\n",
       "      <td>-0.660757</td>\n",
       "      <td>5</td>\n",
       "    </tr>\n",
       "    <tr>\n",
       "      <th>24</th>\n",
       "      <td>-0.713290</td>\n",
       "      <td>1.539527</td>\n",
       "      <td>1.556338</td>\n",
       "      <td>5</td>\n",
       "    </tr>\n",
       "    <tr>\n",
       "      <th>25</th>\n",
       "      <td>-0.353183</td>\n",
       "      <td>-1.161765</td>\n",
       "      <td>-0.291241</td>\n",
       "      <td>5</td>\n",
       "    </tr>\n",
       "    <tr>\n",
       "      <th>28</th>\n",
       "      <td>-0.473219</td>\n",
       "      <td>-1.933562</td>\n",
       "      <td>-1.399788</td>\n",
       "      <td>5</td>\n",
       "    </tr>\n",
       "    <tr>\n",
       "      <th>34</th>\n",
       "      <td>0.126960</td>\n",
       "      <td>-0.775866</td>\n",
       "      <td>0.447791</td>\n",
       "      <td>5</td>\n",
       "    </tr>\n",
       "    <tr>\n",
       "      <th>...</th>\n",
       "      <td>...</td>\n",
       "      <td>...</td>\n",
       "      <td>...</td>\n",
       "      <td>...</td>\n",
       "    </tr>\n",
       "    <tr>\n",
       "      <th>112707</th>\n",
       "      <td>-1.236027</td>\n",
       "      <td>-1.489537</td>\n",
       "      <td>0.318135</td>\n",
       "      <td>6</td>\n",
       "    </tr>\n",
       "    <tr>\n",
       "      <th>114732</th>\n",
       "      <td>-0.633300</td>\n",
       "      <td>-0.052082</td>\n",
       "      <td>1.494100</td>\n",
       "      <td>6</td>\n",
       "    </tr>\n",
       "    <tr>\n",
       "      <th>114803</th>\n",
       "      <td>-0.432391</td>\n",
       "      <td>-0.052082</td>\n",
       "      <td>0.514129</td>\n",
       "      <td>6</td>\n",
       "    </tr>\n",
       "    <tr>\n",
       "      <th>114994</th>\n",
       "      <td>0.973972</td>\n",
       "      <td>-0.052082</td>\n",
       "      <td>-0.465841</td>\n",
       "      <td>6</td>\n",
       "    </tr>\n",
       "    <tr>\n",
       "      <th>117637</th>\n",
       "      <td>-0.733755</td>\n",
       "      <td>1.026010</td>\n",
       "      <td>2.082082</td>\n",
       "      <td>6</td>\n",
       "    </tr>\n",
       "  </tbody>\n",
       "</table>\n",
       "<p>119734 rows × 4 columns</p>\n",
       "</div>"
      ],
      "text/plain": [
       "             age    height    weight  size\n",
       "0      -0.833326  0.767729 -0.660757     5\n",
       "24     -0.713290  1.539527  1.556338     5\n",
       "25     -0.353183 -1.161765 -0.291241     5\n",
       "28     -0.473219 -1.933562 -1.399788     5\n",
       "34      0.126960 -0.775866  0.447791     5\n",
       "...          ...       ...       ...   ...\n",
       "112707 -1.236027 -1.489537  0.318135     6\n",
       "114732 -0.633300 -0.052082  1.494100     6\n",
       "114803 -0.432391 -0.052082  0.514129     6\n",
       "114994  0.973972 -0.052082 -0.465841     6\n",
       "117637 -0.733755  1.026010  2.082082     6\n",
       "\n",
       "[119734 rows x 4 columns]"
      ]
     },
     "execution_count": 9,
     "metadata": {},
     "output_type": "execute_result"
    }
   ],
   "source": [
    "df_raw"
   ]
  },
  {
   "cell_type": "code",
   "execution_count": 10,
   "id": "b3f8dd62",
   "metadata": {},
   "outputs": [],
   "source": [
    "# feature eng\n",
    "df_raw[\"bmi\"] = df_raw[\"height\"]/df_raw[\"weight\"]\n",
    "df_raw[\"weight-squared\"] = df_raw[\"weight\"] * df_raw[\"weight\"]"
   ]
  },
  {
   "cell_type": "code",
   "execution_count": 26,
   "id": "3718ea1b",
   "metadata": {},
   "outputs": [
    {
     "data": {
      "text/html": [
       "<div>\n",
       "<style scoped>\n",
       "    .dataframe tbody tr th:only-of-type {\n",
       "        vertical-align: middle;\n",
       "    }\n",
       "\n",
       "    .dataframe tbody tr th {\n",
       "        vertical-align: top;\n",
       "    }\n",
       "\n",
       "    .dataframe thead th {\n",
       "        text-align: right;\n",
       "    }\n",
       "</style>\n",
       "<table border=\"1\" class=\"dataframe\">\n",
       "  <thead>\n",
       "    <tr style=\"text-align: right;\">\n",
       "      <th></th>\n",
       "      <th>age</th>\n",
       "      <th>height</th>\n",
       "      <th>weight</th>\n",
       "      <th>size</th>\n",
       "      <th>bmi</th>\n",
       "      <th>weight-squared</th>\n",
       "    </tr>\n",
       "  </thead>\n",
       "  <tbody>\n",
       "    <tr>\n",
       "      <th>0</th>\n",
       "      <td>-0.833326</td>\n",
       "      <td>0.767729</td>\n",
       "      <td>-0.660757</td>\n",
       "      <td>5</td>\n",
       "      <td>-1.161894</td>\n",
       "      <td>0.436599</td>\n",
       "    </tr>\n",
       "    <tr>\n",
       "      <th>24</th>\n",
       "      <td>-0.713290</td>\n",
       "      <td>1.539527</td>\n",
       "      <td>1.556338</td>\n",
       "      <td>5</td>\n",
       "      <td>0.989198</td>\n",
       "      <td>2.422189</td>\n",
       "    </tr>\n",
       "    <tr>\n",
       "      <th>25</th>\n",
       "      <td>-0.353183</td>\n",
       "      <td>-1.161765</td>\n",
       "      <td>-0.291241</td>\n",
       "      <td>5</td>\n",
       "      <td>3.989017</td>\n",
       "      <td>0.084821</td>\n",
       "    </tr>\n",
       "    <tr>\n",
       "      <th>28</th>\n",
       "      <td>-0.473219</td>\n",
       "      <td>-1.933562</td>\n",
       "      <td>-1.399788</td>\n",
       "      <td>5</td>\n",
       "      <td>1.381325</td>\n",
       "      <td>1.959407</td>\n",
       "    </tr>\n",
       "    <tr>\n",
       "      <th>34</th>\n",
       "      <td>0.126960</td>\n",
       "      <td>-0.775866</td>\n",
       "      <td>0.447791</td>\n",
       "      <td>5</td>\n",
       "      <td>-1.732653</td>\n",
       "      <td>0.200517</td>\n",
       "    </tr>\n",
       "    <tr>\n",
       "      <th>...</th>\n",
       "      <td>...</td>\n",
       "      <td>...</td>\n",
       "      <td>...</td>\n",
       "      <td>...</td>\n",
       "      <td>...</td>\n",
       "      <td>...</td>\n",
       "    </tr>\n",
       "    <tr>\n",
       "      <th>112707</th>\n",
       "      <td>-1.236027</td>\n",
       "      <td>-1.489537</td>\n",
       "      <td>0.318135</td>\n",
       "      <td>6</td>\n",
       "      <td>-4.682086</td>\n",
       "      <td>0.101210</td>\n",
       "    </tr>\n",
       "    <tr>\n",
       "      <th>114732</th>\n",
       "      <td>-0.633300</td>\n",
       "      <td>-0.052082</td>\n",
       "      <td>1.494100</td>\n",
       "      <td>6</td>\n",
       "      <td>-0.034858</td>\n",
       "      <td>2.232334</td>\n",
       "    </tr>\n",
       "    <tr>\n",
       "      <th>114803</th>\n",
       "      <td>-0.432391</td>\n",
       "      <td>-0.052082</td>\n",
       "      <td>0.514129</td>\n",
       "      <td>6</td>\n",
       "      <td>-0.101301</td>\n",
       "      <td>0.264329</td>\n",
       "    </tr>\n",
       "    <tr>\n",
       "      <th>114994</th>\n",
       "      <td>0.973972</td>\n",
       "      <td>-0.052082</td>\n",
       "      <td>-0.465841</td>\n",
       "      <td>6</td>\n",
       "      <td>0.111801</td>\n",
       "      <td>0.217008</td>\n",
       "    </tr>\n",
       "    <tr>\n",
       "      <th>117637</th>\n",
       "      <td>-0.733755</td>\n",
       "      <td>1.026010</td>\n",
       "      <td>2.082082</td>\n",
       "      <td>6</td>\n",
       "      <td>0.492781</td>\n",
       "      <td>4.335065</td>\n",
       "    </tr>\n",
       "  </tbody>\n",
       "</table>\n",
       "<p>119734 rows × 6 columns</p>\n",
       "</div>"
      ],
      "text/plain": [
       "             age    height    weight  size       bmi  weight-squared\n",
       "0      -0.833326  0.767729 -0.660757     5 -1.161894        0.436599\n",
       "24     -0.713290  1.539527  1.556338     5  0.989198        2.422189\n",
       "25     -0.353183 -1.161765 -0.291241     5  3.989017        0.084821\n",
       "28     -0.473219 -1.933562 -1.399788     5  1.381325        1.959407\n",
       "34      0.126960 -0.775866  0.447791     5 -1.732653        0.200517\n",
       "...          ...       ...       ...   ...       ...             ...\n",
       "112707 -1.236027 -1.489537  0.318135     6 -4.682086        0.101210\n",
       "114732 -0.633300 -0.052082  1.494100     6 -0.034858        2.232334\n",
       "114803 -0.432391 -0.052082  0.514129     6 -0.101301        0.264329\n",
       "114994  0.973972 -0.052082 -0.465841     6  0.111801        0.217008\n",
       "117637 -0.733755  1.026010  2.082082     6  0.492781        4.335065\n",
       "\n",
       "[119734 rows x 6 columns]"
      ]
     },
     "execution_count": 26,
     "metadata": {},
     "output_type": "execute_result"
    }
   ],
   "source": [
    "\n",
    "df_raw"
   ]
  },
  {
   "cell_type": "code",
   "execution_count": 12,
   "id": "344f4b36",
   "metadata": {},
   "outputs": [
    {
     "data": {
      "image/png": "[encoded data removed]",
      "text/plain": [
       "<Figure size 640x480 with 2 Axes>"
      ]
     },
     "metadata": {},
     "output_type": "display_data"
    }
   ],
   "source": [
    "corr = sns.heatmap(df_raw.corr(), annot=True)"
   ]
  },
  {
   "cell_type": "code",
   "execution_count": 13,
   "id": "ec2d3163",
   "metadata": {},
   "outputs": [],
   "source": [
    "# splitting train test \n",
    "# Features\n",
    "X = df_raw.drop(\"size\", axis=1)\n",
    "\n",
    "# Target\n",
    "y = df_raw[\"size\"]"
   ]
  },
  {
   "cell_type": "code",
   "execution_count": 14,
   "id": "5dcca484",
   "metadata": {},
   "outputs": [
    {
     "data": {
      "text/html": [
       "<div>\n",
       "<style scoped>\n",
       "    .dataframe tbody tr th:only-of-type {\n",
       "        vertical-align: middle;\n",
       "    }\n",
       "\n",
       "    .dataframe tbody tr th {\n",
       "        vertical-align: top;\n",
       "    }\n",
       "\n",
       "    .dataframe thead th {\n",
       "        text-align: right;\n",
       "    }\n",
       "</style>\n",
       "<table border=\"1\" class=\"dataframe\">\n",
       "  <thead>\n",
       "    <tr style=\"text-align: right;\">\n",
       "      <th></th>\n",
       "      <th>age</th>\n",
       "      <th>height</th>\n",
       "      <th>weight</th>\n",
       "      <th>bmi</th>\n",
       "      <th>weight-squared</th>\n",
       "    </tr>\n",
       "  </thead>\n",
       "  <tbody>\n",
       "    <tr>\n",
       "      <th>0</th>\n",
       "      <td>-0.833326</td>\n",
       "      <td>0.767729</td>\n",
       "      <td>-0.660757</td>\n",
       "      <td>-1.161894</td>\n",
       "      <td>0.436599</td>\n",
       "    </tr>\n",
       "    <tr>\n",
       "      <th>24</th>\n",
       "      <td>-0.713290</td>\n",
       "      <td>1.539527</td>\n",
       "      <td>1.556338</td>\n",
       "      <td>0.989198</td>\n",
       "      <td>2.422189</td>\n",
       "    </tr>\n",
       "    <tr>\n",
       "      <th>25</th>\n",
       "      <td>-0.353183</td>\n",
       "      <td>-1.161765</td>\n",
       "      <td>-0.291241</td>\n",
       "      <td>3.989017</td>\n",
       "      <td>0.084821</td>\n",
       "    </tr>\n",
       "    <tr>\n",
       "      <th>28</th>\n",
       "      <td>-0.473219</td>\n",
       "      <td>-1.933562</td>\n",
       "      <td>-1.399788</td>\n",
       "      <td>1.381325</td>\n",
       "      <td>1.959407</td>\n",
       "    </tr>\n",
       "    <tr>\n",
       "      <th>34</th>\n",
       "      <td>0.126960</td>\n",
       "      <td>-0.775866</td>\n",
       "      <td>0.447791</td>\n",
       "      <td>-1.732653</td>\n",
       "      <td>0.200517</td>\n",
       "    </tr>\n",
       "  </tbody>\n",
       "</table>\n",
       "</div>"
      ],
      "text/plain": [
       "         age    height    weight       bmi  weight-squared\n",
       "0  -0.833326  0.767729 -0.660757 -1.161894        0.436599\n",
       "24 -0.713290  1.539527  1.556338  0.989198        2.422189\n",
       "25 -0.353183 -1.161765 -0.291241  3.989017        0.084821\n",
       "28 -0.473219 -1.933562 -1.399788  1.381325        1.959407\n",
       "34  0.126960 -0.775866  0.447791 -1.732653        0.200517"
      ]
     },
     "execution_count": 14,
     "metadata": {},
     "output_type": "execute_result"
    }
   ],
   "source": [
    "X.head()"
   ]
  },
  {
   "cell_type": "code",
   "execution_count": 15,
   "id": "cbb1efdd",
   "metadata": {},
   "outputs": [
    {
     "data": {
      "text/plain": [
       "0     5\n",
       "24    5\n",
       "25    5\n",
       "28    5\n",
       "34    5\n",
       "Name: size, dtype: int64"
      ]
     },
     "execution_count": 15,
     "metadata": {},
     "output_type": "execute_result"
    }
   ],
   "source": [
    "y.head()"
   ]
  },
  {
   "cell_type": "code",
   "execution_count": 16,
   "id": "fbdbee96",
   "metadata": {},
   "outputs": [],
   "source": [
    "# Splitting data into training set and validation set\n",
    "\n",
    "X_train, X_test, y_train, y_test, = train_test_split(X,y, test_size=0.10)"
   ]
  },
  {
   "cell_type": "code",
   "execution_count": 17,
   "id": "3b075447",
   "metadata": {},
   "outputs": [
    {
     "data": {
      "text/plain": [
       "(107760, 11974)"
      ]
     },
     "execution_count": 17,
     "metadata": {},
     "output_type": "execute_result"
    }
   ],
   "source": [
    "len(X_train), len(X_test)"
   ]
  },
  {
   "cell_type": "code",
   "execution_count": 18,
   "id": "8815bd0d",
   "metadata": {},
   "outputs": [],
   "source": [
    "# Put models in a dictionary\n",
    "models = {\"Logistic Regression\": LogisticRegression(),\n",
    "         \"KNN\": KNeighborsClassifier(),\n",
    "         \"Random Forest\": RandomForestClassifier(),\n",
    "         \"Decision Tree\": DecisionTreeClassifier()}\n",
    "\n",
    "# Create a function to fit and score models\n",
    "def fit_and_score(models, X_train, X_test, y_train, y_test):\n",
    "   \n",
    "    \"\"\"\n",
    "   Fits and evaluates given machine learning models.\n",
    "   models: a dict of different Scikit_Learn machine learning models\n",
    "   X_train: training data (no labels)\n",
    "   X_test: testing data (no labels)\n",
    "   y_train: training labels\n",
    "   y_test: test labels\n",
    "   \"\"\" \n",
    "    # Set random seed\n",
    "    np.random.seed(18)\n",
    "    # Make a dictionary to keep model scores\n",
    "    model_scores = {}\n",
    "    # Loop through models\n",
    "    for name, model in models.items():\n",
    "        # Fit model to data\n",
    "        model.fit(X_train, y_train)\n",
    "        # Evaluate model and append its score to model_scores\n",
    "        model_scores[name] = model.score(X_test, y_test)\n",
    "\n",
    "    return model_scores\n"
   ]
  },
  {
   "cell_type": "code",
   "execution_count": 29,
   "id": "88280d25",
   "metadata": {},
   "outputs": [
    {
     "name": "stderr",
     "output_type": "stream",
     "text": [
      "/home/krishna/anaconda3/lib/python3.11/site-packages/sklearn/linear_model/_logistic.py:460: ConvergenceWarning: lbfgs failed to converge (status=1):\n",
      "STOP: TOTAL NO. of ITERATIONS REACHED LIMIT.\n",
      "\n",
      "Increase the number of iterations (max_iter) or scale the data as shown in:\n",
      "    https://scikit-learn.org/stable/modules/preprocessing.html\n",
      "Please also refer to the documentation for alternative solver options:\n",
      "    https://scikit-learn.org/stable/modules/linear_model.html#logistic-regression\n",
      "  n_iter_i = _check_optimize_result(\n"
     ]
    },
    {
     "data": {
      "text/plain": [
       "{'Logistic Regression': 0.2548855854351094,\n",
       " 'KNN': 0.9028728912644062,\n",
       " 'Random Forest': 0.9981626858192751,\n",
       " 'Decision Tree': 0.9995824285952898}"
      ]
     },
     "execution_count": 29,
     "metadata": {},
     "output_type": "execute_result"
    }
   ],
   "source": [
    "model_scores = fit_and_score(models,X_train,X_test,y_train,y_test)\n",
    "\n",
    "model_scores\n",
    "\n"
   ]
  },
  {
   "cell_type": "code",
   "execution_count": 30,
   "id": "844db63c",
   "metadata": {},
   "outputs": [
    {
     "data": {
      "image/png": "[encoded data removed]",
      "text/plain": [
       "<Figure size 640x480 with 1 Axes>"
      ]
     },
     "metadata": {},
     "output_type": "display_data"
    }
   ],
   "source": [
    "model_compare = pd.DataFrame(model_scores, index=[\"accuracy\"])\n",
    "model_compare.T.plot.bar();"
   ]
  },
  {
   "cell_type": "code",
   "execution_count": 21,
   "id": "533df50b",
   "metadata": {},
   "outputs": [],
   "source": [
    "model = DecisionTreeClassifier()\n",
    "model.fit(X_train, y_train)\n",
    "y_pred = model.predict(X_test)"
   ]
  },
  {
   "cell_type": "code",
   "execution_count": 22,
   "id": "2a47c98a",
   "metadata": {},
   "outputs": [
    {
     "name": "stdout",
     "output_type": "stream",
     "text": [
      "[[ 985    0    0    0    0    0]\n",
      " [   0 2211    0    0    0    1]\n",
      " [   0    0 3044    0    0    0]\n",
      " [   0    0    0 1770    0    1]\n",
      " [   0    0    0    0 1866    0]\n",
      " [   1    2    0    1    0 2092]]\n"
     ]
    }
   ],
   "source": [
    "# Confusion matrix\n",
    "print(confusion_matrix(y_test, y_pred))\n"
   ]
  },
  {
   "cell_type": "code",
   "execution_count": 23,
   "id": "d3f88ee4",
   "metadata": {},
   "outputs": [
    {
     "name": "stdout",
     "output_type": "stream",
     "text": [
      "              precision    recall  f1-score   support\n",
      "\n",
      "           1       1.00      1.00      1.00       985\n",
      "           2       1.00      1.00      1.00      2212\n",
      "           3       1.00      1.00      1.00      3044\n",
      "           4       1.00      1.00      1.00      1771\n",
      "           5       1.00      1.00      1.00      1866\n",
      "           7       1.00      1.00      1.00      2096\n",
      "\n",
      "    accuracy                           1.00     11974\n",
      "   macro avg       1.00      1.00      1.00     11974\n",
      "weighted avg       1.00      1.00      1.00     11974\n",
      "\n"
     ]
    }
   ],
   "source": [
    "# Classification report\n",
    "print(classification_report(y_test, y_pred))"
   ]
  },
  {
   "cell_type": "code",
   "execution_count": null,
   "id": "5a607c9b",
   "metadata": {},
   "outputs": [],
   "source": [
    "#conclusion ac--99.9% 'Logistic Regression': 0.2548855854351094,\n",
    " #'KNN': 0.9028728912644062,\n",
    " #'Random Forest': 0.9981626858192751,\n",
    " #'Decision Tree': 0.9995824285952898}\n"
   ]
  }
 ],
 "metadata": {
  "kernelspec": {
   "display_name": "Python 3 (ipykernel)",
   "language": "python",
   "name": "python3"
  },
  "language_info": {
   "codemirror_mode": {
    "name": "ipython",
    "version": 3
   },
   "file_extension": ".py",
   "mimetype": "text/x-python",
   "name": "python",
   "nbconvert_exporter": "python",
   "pygments_lexer": "ipython3",
   "version": "3.11.5"
  }
 },
 "nbformat": 4,
 "nbformat_minor": 5
}
